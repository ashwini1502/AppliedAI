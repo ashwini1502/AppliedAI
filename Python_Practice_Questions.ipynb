{
  "nbformat": 4,
  "nbformat_minor": 0,
  "metadata": {
    "kernelspec": {
      "display_name": "Python 3",
      "language": "python",
      "name": "python3"
    },
    "language_info": {
      "codemirror_mode": {
        "name": "ipython",
        "version": 3
      },
      "file_extension": ".py",
      "mimetype": "text/x-python",
      "name": "python",
      "nbconvert_exporter": "python",
      "pygments_lexer": "ipython3",
      "version": "3.7.4"
    },
    "colab": {
      "name": "Python Practice Questions.ipynb",
      "provenance": [],
      "collapsed_sections": [],
      "include_colab_link": true
    }
  },
  "cells": [
    {
      "cell_type": "markdown",
      "metadata": {
        "id": "view-in-github",
        "colab_type": "text"
      },
      "source": [
        "<a href=\"https://colab.research.google.com/github/sanjusci/AppliedAI/blob/master/Python_Practice_Questions.ipynb\" target=\"_parent\"><img src=\"https://colab.research.google.com/assets/colab-badge.svg\" alt=\"Open In Colab\"/></a>"
      ]
    },
    {
      "cell_type": "markdown",
      "metadata": {
        "id": "Fqe2P70ZJX1U",
        "colab_type": "text"
      },
      "source": [
        "1. Write a function that inputs a number and prints the multiplication table of that number"
      ]
    },
    {
      "cell_type": "code",
      "metadata": {
        "id": "XnhvnQUwJX1X",
        "colab_type": "code",
        "outputId": "a44720ce-7c38-40f6-dffe-7ae02d6ea76d",
        "colab": {
          "base_uri": "https://localhost:8080/",
          "height": 204
        }
      },
      "source": [
        "num = int(input(\"Enter a Number: \"))\n",
        "for i in range(1, 11):\n",
        "    print(num * i)\n"
      ],
      "execution_count": 0,
      "outputs": [
        {
          "output_type": "stream",
          "text": [
            "Enter a Number: 12\n",
            "12\n",
            "24\n",
            "36\n",
            "48\n",
            "60\n",
            "72\n",
            "84\n",
            "96\n",
            "108\n",
            "120\n"
          ],
          "name": "stdout"
        }
      ]
    },
    {
      "cell_type": "markdown",
      "metadata": {
        "id": "pLUMfcHhJX1b",
        "colab_type": "text"
      },
      "source": [
        "2. Write a program to print twin primes less than 1000. If two consecutive odd numbers are both prime then they are known as twin primes"
      ]
    },
    {
      "cell_type": "code",
      "metadata": {
        "id": "S5mWMpz8JX1c",
        "colab_type": "code",
        "outputId": "e9fbd7a5-1164-460d-f1df-7402f5b8664c",
        "colab": {
          "base_uri": "https://localhost:8080/",
          "height": 612
        }
      },
      "source": [
        "import math\n",
        "def is_prime(n):\n",
        "    if n == 1:\n",
        "        return False\n",
        "    return not [x for x in range(2, int(math.sqrt(n)) + 1)\n",
        "                    if n % x == 0]\n",
        "\n",
        "for i in range(1, 1000):\n",
        "    if is_prime(i) and is_prime(i+2):\n",
        "        print(\"({}, {})\".format(i, i+2))\n"
      ],
      "execution_count": 0,
      "outputs": [
        {
          "output_type": "stream",
          "text": [
            "(3, 5)\n",
            "(5, 7)\n",
            "(11, 13)\n",
            "(17, 19)\n",
            "(29, 31)\n",
            "(41, 43)\n",
            "(59, 61)\n",
            "(71, 73)\n",
            "(101, 103)\n",
            "(107, 109)\n",
            "(137, 139)\n",
            "(149, 151)\n",
            "(179, 181)\n",
            "(191, 193)\n",
            "(197, 199)\n",
            "(227, 229)\n",
            "(239, 241)\n",
            "(269, 271)\n",
            "(281, 283)\n",
            "(311, 313)\n",
            "(347, 349)\n",
            "(419, 421)\n",
            "(431, 433)\n",
            "(461, 463)\n",
            "(521, 523)\n",
            "(569, 571)\n",
            "(599, 601)\n",
            "(617, 619)\n",
            "(641, 643)\n",
            "(659, 661)\n",
            "(809, 811)\n",
            "(821, 823)\n",
            "(827, 829)\n",
            "(857, 859)\n",
            "(881, 883)\n"
          ],
          "name": "stdout"
        }
      ]
    },
    {
      "cell_type": "markdown",
      "metadata": {
        "id": "5j3Hws6gJX1f",
        "colab_type": "text"
      },
      "source": [
        "3. Write a program to find out the prime factors of a number. Example: prime factors of 56 - 2, 2, 2, 7"
      ]
    },
    {
      "cell_type": "code",
      "metadata": {
        "id": "zwUpmuNcJX1g",
        "colab_type": "code",
        "outputId": "1195eb33-e157-4223-b001-aabc40658bcd",
        "colab": {
          "base_uri": "https://localhost:8080/",
          "height": 34
        }
      },
      "source": [
        "def prime_factor(n):\n",
        "    p_factor = []\n",
        "    numbers = range(2,n + 1)\n",
        "    num = 2\n",
        "    while not p_factor and num in numbers:\n",
        "        if n%num == 0 and is_prime(num):\n",
        "            p_factor = p_factor + [num] + prime_factor(n//num)\n",
        "        num += 1            \n",
        "    return p_factor\n",
        "prime_factor(56)"
      ],
      "execution_count": 0,
      "outputs": [
        {
          "output_type": "execute_result",
          "data": {
            "text/plain": [
              "[2, 2, 2, 7]"
            ]
          },
          "metadata": {
            "tags": []
          },
          "execution_count": 3
        }
      ]
    },
    {
      "cell_type": "markdown",
      "metadata": {
        "id": "ReRh4joKJX1i",
        "colab_type": "text"
      },
      "source": [
        "4. Write a program to implement these formulae of permutations and combinations. Number of permutations of n objects taken r at a time: p(n, r) = n! / (n-r)!. Number of combinations of n objects taken r at a time is: c(n, r) = n! / (r!*(n-r)!) = p(n,r) / r!"
      ]
    },
    {
      "cell_type": "code",
      "metadata": {
        "id": "wx-f-nqOJX1j",
        "colab_type": "code",
        "outputId": "957e3d6b-1f56-4bf5-886e-61351fd70998",
        "colab": {
          "base_uri": "https://localhost:8080/",
          "height": 51
        }
      },
      "source": [
        "# using recursion\n",
        "# def fact(n):\n",
        "#     return 1 if n == 1 else (n * fact(n-1))\n",
        "\n",
        "def fact(n):\n",
        "    if n == 1:\n",
        "        return 1\n",
        "    r = 1\n",
        "    for i in range(2, n + 1):\n",
        "        r = r * i\n",
        "    return r\n",
        "\n",
        "def permutations_combinations(n, r):\n",
        "    # p(n, r) = n! / (n - r)!\n",
        "    npr =  fact(n) / fact(n - r)\n",
        "    print(\"{}p{} is {}\".format(n, r, int(npr)))\n",
        "    # c(n, r) = n! / (r! * (n - r)!) = p(n, r) / r!\n",
        "    \n",
        "    ncr = npr / fact(r)\n",
        "    print(\"{}c{} is {}\".format(n, r, int(ncr)))\n",
        "\n",
        "\n",
        "permutations_combinations(5, 2)\n"
      ],
      "execution_count": 0,
      "outputs": [
        {
          "output_type": "stream",
          "text": [
            "5p2 is 20\n",
            "5c2 is 10\n"
          ],
          "name": "stdout"
        }
      ]
    },
    {
      "cell_type": "markdown",
      "metadata": {
        "id": "f5HadaaIJX1l",
        "colab_type": "text"
      },
      "source": [
        "5. Write a function that converts a decimal number to binary number"
      ]
    },
    {
      "cell_type": "code",
      "metadata": {
        "id": "RrU7KzNEJX1m",
        "colab_type": "code",
        "outputId": "c276e390-ce49-4d8e-dc1e-aabd15ab5a1e",
        "colab": {
          "base_uri": "https://localhost:8080/",
          "height": 34
        }
      },
      "source": [
        "def decimal(n):\n",
        "    if n > 1:\n",
        "        decimal(n//2)\n",
        "    print(n % 2, end=\"\")\n",
        "decimal(8)"
      ],
      "execution_count": 0,
      "outputs": [
        {
          "output_type": "stream",
          "text": [
            "1000"
          ],
          "name": "stdout"
        }
      ]
    },
    {
      "cell_type": "markdown",
      "metadata": {
        "id": "l-K_2RoLJX1o",
        "colab_type": "text"
      },
      "source": [
        "6. Write a function cubesum() that accepts an integer and returns the sum of the cubes of individual digits of that number. Use this function to make functions PrintArmstrong() and isArmstrong() to print Armstrong numbers and to find whether is an Armstrong number."
      ]
    },
    {
      "cell_type": "code",
      "metadata": {
        "id": "JPlVk4SSJX1p",
        "colab_type": "code",
        "outputId": "03f7b34c-aa0b-4da7-fdc2-abef4e0a189e",
        "colab": {
          "base_uri": "https://localhost:8080/",
          "height": 51
        }
      },
      "source": [
        "def cubesum(digit):\n",
        "    sum = 0\n",
        "    while digit > 0:\n",
        "        r = digit % 10\n",
        "        sum = sum + (r * r * r)\n",
        "        digit = digit // 10\n",
        "    return sum\n",
        "\n",
        "def isArmstrong(n, csum):\n",
        "    if n == csum:\n",
        "        return True\n",
        "    return False\n",
        "    \n",
        "def PrintArmstrong(n):\n",
        "    csum = cubesum(n)\n",
        "    if isArmstrong(n, csum):\n",
        "        print(\"Number is an Armstrong number.\")\n",
        "    else:\n",
        "        print(\"Number is not an Armstrong number.\")\n",
        "PrintArmstrong(151)\n",
        "PrintArmstrong(153)"
      ],
      "execution_count": 0,
      "outputs": [
        {
          "output_type": "stream",
          "text": [
            "Number is not an Armstrong number.\n",
            "Number is an Armstrong number.\n"
          ],
          "name": "stdout"
        }
      ]
    },
    {
      "cell_type": "markdown",
      "metadata": {
        "id": "MtgWYoCUJX1r",
        "colab_type": "text"
      },
      "source": [
        "7. Write a function prodDigits() that inputs a number and returns the product of digits of that number."
      ]
    },
    {
      "cell_type": "code",
      "metadata": {
        "id": "kiWRLP6BJX1s",
        "colab_type": "code",
        "outputId": "b0e8c357-65fb-4aab-912e-2b03b86a7d64",
        "colab": {
          "base_uri": "https://localhost:8080/",
          "height": 34
        }
      },
      "source": [
        "def prodDigits(digit):\n",
        "    p = 1;\n",
        "    while digit > 0:\n",
        "        p = p * (digit % 10)\n",
        "        digit = digit // 10\n",
        "    return p\n",
        "\n",
        "prodDigits(234)    "
      ],
      "execution_count": 0,
      "outputs": [
        {
          "output_type": "execute_result",
          "data": {
            "text/plain": [
              "24"
            ]
          },
          "metadata": {
            "tags": []
          },
          "execution_count": 7
        }
      ]
    },
    {
      "cell_type": "markdown",
      "metadata": {
        "id": "ICYyl_nGJX1u",
        "colab_type": "text"
      },
      "source": [
        "8. If all digits of a number n are multiplied by each other repeating with the product, the one digit number obtained at last is called the multiplicative digital root of n. The number of times digits need to be multiplied to reach one digit is called the multiplicative. persistance of n.\n",
        "Example: 86 -> 48 -> 32 -> 6 (MDR 6, MPersistence 3)\n",
        " 341 -> 12->2 (MDR 2, MPersistence 2)\n",
        "Using the function prodDigits() of previous exercise write functions MDR() and\n",
        "MPersistence() that input a number and return its multiplicative digital root and\n",
        "multiplicative persistence respectively"
      ]
    },
    {
      "cell_type": "code",
      "metadata": {
        "id": "qx8hc6esJX1v",
        "colab_type": "code",
        "outputId": "f4568c1c-2f71-4910-8934-bbf4b3541708",
        "colab": {
          "base_uri": "https://localhost:8080/",
          "height": 34
        }
      },
      "source": [
        "def MPersistence(n):\n",
        "    l = []\n",
        "    s = 0\n",
        "    while n > 9:\n",
        "        n = prodDigits(n)\n",
        "        s += 1\n",
        "        l.append(n)\n",
        "    return l, s\n",
        "\n",
        "def MDR(l, s):\n",
        "    print(\"(MDR {} MPersistence {})\".format(l[-1], s))\n",
        "l, s = MPersistence(341)\n",
        "for i in l:\n",
        "    print(\"{} ->\".format(i), end=' ')\n",
        "MDR(l, s)"
      ],
      "execution_count": 0,
      "outputs": [
        {
          "output_type": "stream",
          "text": [
            "12 -> 2 -> (MDR 2 MPersistence 2)\n"
          ],
          "name": "stdout"
        }
      ]
    },
    {
      "cell_type": "markdown",
      "metadata": {
        "id": "5pgrBJy_JX1x",
        "colab_type": "text"
      },
      "source": [
        "9. Write a function sumPdivisors() that finds the sum of proper divisors of a number. Proper divisors of a number are those numbers by which the number is divisible, except the number itself. For example proper divisors of 36 are 1, 2, 3, 4, 6, 9, 18"
      ]
    },
    {
      "cell_type": "code",
      "metadata": {
        "id": "299U3F3PJX1x",
        "colab_type": "code",
        "outputId": "3e89bda3-cfa5-4e96-ad18-a13b237e407d",
        "colab": {
          "base_uri": "https://localhost:8080/",
          "height": 34
        }
      },
      "source": [
        "def sumPdivisors(n):\n",
        "    return [i for i in range(1, n) if n % i == 0]\n",
        "\n",
        "sumPdivisors(36)"
      ],
      "execution_count": 0,
      "outputs": [
        {
          "output_type": "execute_result",
          "data": {
            "text/plain": [
              "[1, 2, 3, 4, 6, 9, 12, 18]"
            ]
          },
          "metadata": {
            "tags": []
          },
          "execution_count": 9
        }
      ]
    },
    {
      "cell_type": "markdown",
      "metadata": {
        "id": "NueoOMbpJX1z",
        "colab_type": "text"
      },
      "source": [
        "10. A number is called perfect if the sum of proper divisors of that number is equal to the number. For example 28 is perfect number, since 1+2+4+7+14=28. Write a program to print all the perfect numbers in a given range"
      ]
    },
    {
      "cell_type": "code",
      "metadata": {
        "id": "5QvvYBDLJX10",
        "colab_type": "code",
        "outputId": "380d785b-abd6-4cc1-c66c-b8daab4af587",
        "colab": {
          "base_uri": "https://localhost:8080/",
          "height": 68
        }
      },
      "source": [
        "def fact_sum(n):\n",
        "    return sum([i for i in range(1, n) if n % i == 0])\n",
        "\n",
        "def perfectNumber(n):\n",
        "    for i in range(1, n + 1):\n",
        "        s = fact_sum(i)\n",
        "        if s == i:\n",
        "            print(i)\n",
        "perfectNumber(1000)"
      ],
      "execution_count": 0,
      "outputs": [
        {
          "output_type": "stream",
          "text": [
            "6\n",
            "28\n",
            "496\n"
          ],
          "name": "stdout"
        }
      ]
    },
    {
      "cell_type": "markdown",
      "metadata": {
        "id": "ngFXxcWYJX12",
        "colab_type": "text"
      },
      "source": [
        "11. Two different numbers are called amicable numbers if the sum of the proper divisors of each is equal to the other number.\n",
        "For example 220 and 284 are amicable numbers.\n",
        "Sum of proper divisors of 220 = 1+2+4+5+10+11+20+22+44+55+110 = 284\n",
        "Sum of proper divisors of 284 = 1+2+4+71+142 = 220\n",
        "Write a function to print pairs of amicable numbers in a range"
      ]
    },
    {
      "cell_type": "code",
      "metadata": {
        "id": "fYLf4-5fJX12",
        "colab_type": "code",
        "outputId": "6e3ca08c-bd57-413e-c7e7-4bc1ec4184dd",
        "colab": {
          "base_uri": "https://localhost:8080/",
          "height": 51
        }
      },
      "source": [
        "\n",
        "def amicable(nrange):\n",
        "    for num in range(2, nrange + 1): \n",
        "        s1 = fact_sum(num)\n",
        "        s2 = fact_sum(s1)\n",
        "        if num == s2 and num != s1:\n",
        "            print(\"({}, {})\".format(s1, s2))\n",
        "amicable(1000)"
      ],
      "execution_count": 0,
      "outputs": [
        {
          "output_type": "stream",
          "text": [
            "(284, 220)\n",
            "(220, 284)\n"
          ],
          "name": "stdout"
        }
      ]
    },
    {
      "cell_type": "markdown",
      "metadata": {
        "id": "nk9H4xNBJX15",
        "colab_type": "text"
      },
      "source": [
        "12. Write a program which can filter odd numbers in a list by using filter function"
      ]
    },
    {
      "cell_type": "code",
      "metadata": {
        "id": "yYfZwab6JX15",
        "colab_type": "code",
        "outputId": "6578d45e-39d3-44e2-b020-c3124a13315a",
        "colab": {
          "base_uri": "https://localhost:8080/",
          "height": 34
        }
      },
      "source": [
        "l = [i for i in range(1, 20 + 1)]\n",
        "list(filter(lambda x : x % 2 != 0, l))"
      ],
      "execution_count": 0,
      "outputs": [
        {
          "output_type": "execute_result",
          "data": {
            "text/plain": [
              "[1, 3, 5, 7, 9, 11, 13, 15, 17, 19]"
            ]
          },
          "metadata": {
            "tags": []
          },
          "execution_count": 12
        }
      ]
    },
    {
      "cell_type": "markdown",
      "metadata": {
        "id": "KeD4yWBGJX17",
        "colab_type": "text"
      },
      "source": [
        "13. Write a program which can map() to make a list whose elements are cube of elements in a given list"
      ]
    },
    {
      "cell_type": "code",
      "metadata": {
        "id": "W_NKl9vsJX18",
        "colab_type": "code",
        "outputId": "7d9ab5f8-a50b-4a8b-9913-b103bb9d38b5",
        "colab": {
          "base_uri": "https://localhost:8080/",
          "height": 34
        }
      },
      "source": [
        "l = [i for i in range(1, 10 + 1)]\n",
        "list(map(lambda x : x**3, l))"
      ],
      "execution_count": 0,
      "outputs": [
        {
          "output_type": "execute_result",
          "data": {
            "text/plain": [
              "[1, 8, 27, 64, 125, 216, 343, 512, 729, 1000]"
            ]
          },
          "metadata": {
            "tags": []
          },
          "execution_count": 13
        }
      ]
    },
    {
      "cell_type": "markdown",
      "metadata": {
        "id": "mxUZc9qgJX1-",
        "colab_type": "text"
      },
      "source": [
        "14. Write a program which can map() and filter() to make a list whose elements are cube of even number in a given list"
      ]
    },
    {
      "cell_type": "code",
      "metadata": {
        "id": "no7lo28GJX1_",
        "colab_type": "code",
        "outputId": "8c2fe156-f385-4631-c534-18d64d23dc66",
        "colab": {
          "base_uri": "https://localhost:8080/",
          "height": 34
        }
      },
      "source": [
        "l = [i for i in range(1, 20 + 1)]\n",
        "list(map(lambda x : x**3, filter(lambda x : x % 2 != 0, l)))"
      ],
      "execution_count": 0,
      "outputs": [
        {
          "output_type": "execute_result",
          "data": {
            "text/plain": [
              "[1, 27, 125, 343, 729, 1331, 2197, 3375, 4913, 6859]"
            ]
          },
          "metadata": {
            "tags": []
          },
          "execution_count": 14
        }
      ]
    }
  ]
}